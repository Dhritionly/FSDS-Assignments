{
  "nbformat": 4,
  "nbformat_minor": 0,
  "metadata": {
    "colab": {
      "provenance": []
    },
    "kernelspec": {
      "name": "python3",
      "display_name": "Python 3"
    },
    "language_info": {
      "name": "python"
    }
  },
  "cells": [
    {
      "cell_type": "code",
      "execution_count": null,
      "metadata": {
        "id": "IsA6RTCQtDwc",
        "colab": {
          "base_uri": "https://localhost:8080/"
        },
        "outputId": "5e56648e-297b-4aac-c8cc-b72c7eec1afb"
      },
      "outputs": [
        {
          "output_type": "stream",
          "name": "stdout",
          "text": [
            "x =  20\n",
            "y =  10\n"
          ]
        }
      ],
      "source": [
        "# Python Basic Assignment : Variable\n",
        "\n",
        "#1. Declare two variables, `x` and `y`, and assign them integer values. Swap the values of these variables without using any temporary variable.\n",
        "\n",
        "x = 10\n",
        "y = 20\n",
        "\n",
        "#swapping\n",
        "x,y = y,x\n",
        "\n",
        "print(\"x = \",x)\n",
        "print(\"y = \",y)\n",
        "\n",
        "\n"
      ]
    },
    {
      "cell_type": "code",
      "source": [
        "#2. Create a program that calculates the area of a rectangle. Take the length and width as inputs from the user and store them in variables.\n",
        "#Calculate and display the area.\n",
        "\n",
        "print(\"Area of RECTANGLE Calculator\")\n",
        "\n",
        "#taking input inside variable\n",
        "\n",
        "l = int(input(\"Input the length: \"))\n",
        "w = int(input(\"Input the width: \"))\n",
        "\n",
        "#calculation\n",
        "\n",
        "area = (l * w)\n",
        "\n",
        "print(\"Total Area = (Length x Width) = \",area)\n"
      ],
      "metadata": {
        "colab": {
          "base_uri": "https://localhost:8080/"
        },
        "id": "Nkzz0zs9vqW9",
        "outputId": "42c355ee-3c44-4348-ca1c-c923c9f3dd56"
      },
      "execution_count": null,
      "outputs": [
        {
          "output_type": "stream",
          "name": "stdout",
          "text": [
            "Area of RECTANGLE Calculator\n",
            "Input the length: 10\n",
            "Input the width: 20\n",
            "Total Area = (Length x Width) =  200\n"
          ]
        }
      ]
    },
    {
      "cell_type": "code",
      "source": [
        "#3. Write a Python program that converts temperatures from Celsius to Fahrenheit. Take the temperature in Celsius as input, store it in a variable,\n",
        "#convert it to Fahrenheit, and display the result.\n",
        "\n",
        "\n",
        "#Taking celsisus input from user:\n",
        "\n",
        "celsisus = float(input(\"Enter temperature in celsisus = \"))\n",
        "\n",
        "#Converting Celsius to Fahrenheit\n",
        "\n",
        "fahrenheit = (celsisus * 9/5) + 32\n",
        "\n",
        "print(\"Temperature in fahrenheit = \", fahrenheit)\n"
      ],
      "metadata": {
        "colab": {
          "base_uri": "https://localhost:8080/"
        },
        "id": "Gn7V11yhzulK",
        "outputId": "6116f652-d140-4453-dcdf-b9b4ec2f0c55"
      },
      "execution_count": null,
      "outputs": [
        {
          "output_type": "stream",
          "name": "stdout",
          "text": [
            "Enter temperature in celsisus = 23\n",
            "Temperature in fahrenheit =  73.4\n"
          ]
        }
      ]
    },
    {
      "cell_type": "code",
      "source": [
        "# Python Basic Assignment : String\n",
        "\n",
        "#1. Write a Python program that takes a string as input and prints the length of the string.\n",
        "\n",
        "\n",
        "user_input =str(input(\"Input Here: \"))\n",
        "\n",
        "lenght = len(user_input)\n",
        "\n",
        "print(\"Lenght of the string is\",lenght)\n",
        "\n",
        "\n",
        "\n",
        "\n",
        "\n"
      ],
      "metadata": {
        "id": "hWWVGEov2ijs",
        "colab": {
          "base_uri": "https://localhost:8080/"
        },
        "outputId": "cbecd476-156b-4ad9-f237-fde95a05b18e"
      },
      "execution_count": 4,
      "outputs": [
        {
          "output_type": "stream",
          "name": "stdout",
          "text": [
            "Input Here: Hello World\n",
            "Lenght of the string is 11\n"
          ]
        }
      ]
    },
    {
      "cell_type": "code",
      "source": [
        "#2. Create a program that takes a sentence from the user and counts the number of vowels (a, e, i, o, u) in the string.\n",
        "\n",
        "#creating a list of vowels\n",
        "\n",
        "vowels = [\"a\",\"e\",\"i\",\"o\",\"u\"]\n",
        "\n",
        "#taking input and convering them to lower case\n",
        "\n",
        "sentence = (input(\"Input a sentence : \")).lower()\n",
        "\n",
        "#Coutning Vowels using for loop\n",
        "\n",
        "no_of_vowels = 0\n",
        "\n",
        "for word in sentence:\n",
        "  if word in vowels:\n",
        "    no_of_vowels += 1\n",
        "\n",
        "#Printing the no of vowels\n",
        "\n",
        "print(\"No of vowels =\",no_of_vowels)\n",
        "\n",
        "\n",
        "\n",
        "\n",
        "\n"
      ],
      "metadata": {
        "colab": {
          "base_uri": "https://localhost:8080/"
        },
        "id": "rxLQ2_z5Q3_N",
        "outputId": "95b97dc8-e322-4bb0-c597-9dbb776eb175"
      },
      "execution_count": 7,
      "outputs": [
        {
          "output_type": "stream",
          "name": "stdout",
          "text": [
            "Input a sentence : I hope you like my answers\n",
            "No of vowels = 9\n"
          ]
        }
      ]
    },
    {
      "cell_type": "code",
      "source": [
        "#3. Given a string, reverse the order of characters using string slicing and print the reversed string.\n",
        "\n",
        "given_string = \"Hello World\"\n",
        "\n",
        "#reversing the order using stirng slicing and jumping\n",
        "\n",
        "reversed_string = given_string[::-1]\n",
        "\n",
        "\n",
        "print(\"Reversed string = \", reversed_string)"
      ],
      "metadata": {
        "colab": {
          "base_uri": "https://localhost:8080/"
        },
        "id": "03ptxcH1Uhn6",
        "outputId": "e970a953-e1f6-4e1a-8de6-6810db7c2699"
      },
      "execution_count": 8,
      "outputs": [
        {
          "output_type": "stream",
          "name": "stdout",
          "text": [
            "Reversed string =  dlroW olleH\n"
          ]
        }
      ]
    },
    {
      "cell_type": "code",
      "source": [
        "#4. Write a program that takes a string as input and checks if it is a palindrome (reads the same forwards and backwards).\n",
        "\n",
        "\n",
        "#taking input from user\n",
        "\n",
        "user_word = input(\"Input the word : \")\n",
        "\n",
        "#converting to lower case\n",
        "\n",
        "word_lower = user_word.lower()\n",
        "\n",
        "#reversing the word\n",
        "\n",
        "reversed_word = word_lower[::-1]\n",
        "\n",
        "#cheking the word\n",
        "\n",
        "if word_lower == reversed_word:\n",
        "  print(user_word,\"is Palindrome\")\n",
        "\n",
        "else:\n",
        "  print(user_word,\"is not Palindrome\")"
      ],
      "metadata": {
        "colab": {
          "base_uri": "https://localhost:8080/"
        },
        "id": "opMXzIRIVfkv",
        "outputId": "b92cdbfe-38d3-40fe-be25-f7e226215f8c"
      },
      "execution_count": 14,
      "outputs": [
        {
          "output_type": "stream",
          "name": "stdout",
          "text": [
            "Input the word : Radar\n",
            "Radar is Palindrome\n"
          ]
        }
      ]
    },
    {
      "cell_type": "code",
      "source": [
        "#5. Create a program that takes a string as input and removes all the spaces from it. Print the modified string without spaces.\n",
        "\n",
        "user_string = (input(\"Input the sentence: \"))\n",
        "\n",
        "#replacing space with blanks\n",
        "\n",
        "user_string_replaced = user_string.replace(\" \",\"\")\n",
        "\n",
        "print(\"Modified Sentence is = \",user_string_replaced)"
      ],
      "metadata": {
        "colab": {
          "base_uri": "https://localhost:8080/"
        },
        "id": "WmWQLTYUf1Nc",
        "outputId": "590dbb65-f596-48bf-a8cd-1f24fc63854c"
      },
      "execution_count": 16,
      "outputs": [
        {
          "output_type": "stream",
          "name": "stdout",
          "text": [
            "Input the sentence: Hello World\n",
            "Modified Sentence is =  HelloWorld\n"
          ]
        }
      ]
    }
  ]
}